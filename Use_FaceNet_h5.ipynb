{
  "nbformat": 4,
  "nbformat_minor": 0,
  "metadata": {
    "colab": {
      "name": "Use_FaceNet.h5.ipynb",
      "provenance": [],
      "collapsed_sections": [],
      "include_colab_link": true
    },
    "kernelspec": {
      "name": "python3",
      "display_name": "Python 3"
    },
    "language_info": {
      "name": "python"
    },
    "accelerator": "GPU"
  },
  "cells": [
    {
      "cell_type": "markdown",
      "metadata": {
        "id": "view-in-github",
        "colab_type": "text"
      },
      "source": [
        "<a href=\"https://colab.research.google.com/github/nitisha-pradhan/The_Irregulars/blob/main/Use_FaceNet_h5.ipynb\" target=\"_parent\"><img src=\"https://colab.research.google.com/assets/colab-badge.svg\" alt=\"Open In Colab\"/></a>"
      ]
    },
    {
      "cell_type": "code",
      "metadata": {
        "id": "GBoYb25rI_YS"
      },
      "source": [
        "import cv2\n",
        "\n",
        "def get_face(img):\n",
        "    '''Crops image to only include face plus a border'''\n",
        "    height, width, channels = img.shape\n",
        "    face_cascade = cv2.CascadeClassifier(cv2.data.haarcascades + \"haarcascade_frontalface_default.xml\")\n",
        "    face_box = face_cascade.detectMultiScale(img)\n",
        "    # Get dimensions of bounding box\n",
        "    x, y, w, h = tuple(map(tuple, face_box))[0]\n",
        "    # Calculate padding as segmentation is too tight.\n",
        "    pad_w = int(w/2.5)\n",
        "    pad_h = int(h/2.5)\n",
        "    # Get co-ordinates of crop\n",
        "    x1 = max(0, x-pad_w)\n",
        "    y1 = max(0, y-pad_h)\n",
        "    x2 = min(width, x+w+pad_w)\n",
        "    y2 = min(height, y+h+pad_h)\n",
        "    # Crop image\n",
        "    cropped = img[y1:y2,x1:x2]\n",
        "    return cropped"
      ],
      "execution_count": null,
      "outputs": []
    },
    {
      "cell_type": "code",
      "metadata": {
        "id": "JmI8yGBdLaPK"
      },
      "source": [
        "import numpy as np\n",
        "from sklearn.metrics.pairwise import cosine_similarity"
      ],
      "execution_count": null,
      "outputs": []
    },
    {
      "cell_type": "code",
      "metadata": {
        "id": "F4ZlUXTn99yq"
      },
      "source": [
        "def img_to_encoding(image, model):\n",
        "    # Resize for model\n",
        "    resized = cv2.resize(image, (96, 96))\n",
        "    # Swap channel dimensions\n",
        "    input_img = resized[...,::-1]\n",
        "    # Switch to channels first and round to specific precision.\n",
        "    input_img = np.around(np.transpose(input_img, (2,0,1))/255.0, decimals=12)\n",
        "    x_train = np.array([input_img])\n",
        "    embedding = model.predict_on_batch(x_train)\n",
        "    return embedding\n",
        "\n",
        "def cosine_sim(embedding_one, embedding_two):\n",
        "  similarities = cosine_similarity(embedding_one, embedding_two)\n",
        "  return similarities[0][0]"
      ],
      "execution_count": null,
      "outputs": []
    },
    {
      "cell_type": "code",
      "metadata": {
        "colab": {
          "base_uri": "https://localhost:8080/"
        },
        "id": "Zp8rjEW6_mje",
        "outputId": "b434c21f-52d6-49f3-b4bb-d9093d98374a"
      },
      "source": [
        " import tensorflow as tf\n",
        "import tensorflow.keras.backend as tfback\n",
        " model = models.load_model('/content/face_verify.h5')"
      ],
      "execution_count": null,
      "outputs": [
        {
          "output_type": "stream",
          "text": [
            "WARNING:tensorflow:No training configuration found in the save file, so the model was *not* compiled. Compile it manually.\n"
          ],
          "name": "stdout"
        }
      ]
    },
    {
      "cell_type": "code",
      "metadata": {
        "colab": {
          "base_uri": "https://localhost:8080/"
        },
        "id": "9ERFDm0E9piX",
        "outputId": "4e2d3b25-90e9-4a35-d710-9c5656975fce"
      },
      "source": [
        "if __name__ == '__main__':\n",
        "    \n",
        "    #First image embedding\n",
        "     image_path = '/content/note1.jpg'\n",
        "     img1 = cv2.imread(image_path, 1)\n",
        "\n",
        "     cropped1 = get_face(img1)\n",
        "\n",
        "     embedding_one = img_to_encoding(cropped1, model)\n",
        "     print(embedding_one)\n",
        "\n",
        "    #Second image embedding\n",
        "     image_path = '/content/face.jpg'\n",
        "     img2 = cv2.imread(image_path, 1)\n",
        "\n",
        "     cropped2 = get_face(img2)\n",
        "\n",
        "     embedding_two = img_to_encoding(cropped2, model)\n",
        "     print(embedding_two)\n",
        "\n",
        "    #Third image embedding\n",
        "     image_path = '/content/tom1.jpg'\n",
        "     img3 = cv2.imread(image_path, 1)\n",
        "\n",
        "     cropped3 = get_face(img3)\n",
        "     embedding_three = img_to_encoding(cropped3, model)\n",
        "     print(embedding_three)\n",
        "\n",
        "     print(\"1 and 2\", cosine_sim(embedding_one, embedding_two))\n",
        "     print(\"1 and 3\", cosine_sim(embedding_one, embedding_three))\n",
        "     print(\"2 and 3\", cosine_sim(embedding_two, embedding_three))"
      ],
      "execution_count": null,
      "outputs": [
        {
          "output_type": "stream",
          "text": [
            "[[ 0.10057095  0.19410542  0.06577026 -0.05318104  0.01362109  0.24428895\n",
            "   0.06092777  0.02154713 -0.03541315 -0.04161831  0.02754257 -0.04916706\n",
            "   0.02150827 -0.08118604  0.13124986 -0.15816164 -0.04259171 -0.02125218\n",
            "  -0.11879972  0.03296365 -0.02994638  0.1340507  -0.01532782  0.13987401\n",
            "  -0.03703727 -0.1623131  -0.06942742 -0.05056001  0.063347    0.00541252\n",
            "   0.00785884 -0.07939906 -0.11207245  0.07171599  0.05154204  0.02564145\n",
            "   0.07106373  0.03157922 -0.07223582  0.06759218  0.08306014 -0.04443373\n",
            "  -0.13995853 -0.04314084 -0.13422687  0.08123747  0.06768766  0.05464636\n",
            "  -0.19848157  0.11653883 -0.03190811  0.03708814 -0.00478288  0.01850133\n",
            "  -0.01469674  0.00670513 -0.07694617  0.0977857  -0.04518026 -0.11299125\n",
            "  -0.11229078  0.12209465  0.10994184 -0.19406065 -0.00905437  0.0448334\n",
            "   0.16869573  0.01670841 -0.13994175  0.04406787  0.05560887  0.03400984\n",
            "   0.01929025  0.04903843  0.09671772  0.02301131 -0.11101002 -0.03000821\n",
            "   0.09394254  0.04342777  0.01854156  0.08933993 -0.03691407 -0.08208261\n",
            "   0.05279951  0.04427044 -0.00583819 -0.05670331 -0.05233355  0.15343162\n",
            "   0.14260614 -0.16781113  0.02356343  0.02689238 -0.10166951 -0.11852913\n",
            "   0.02540769 -0.0663889   0.033073   -0.02445258  0.0286658   0.06032186\n",
            "  -0.04835612  0.02325666 -0.21789369  0.10551733 -0.03557669  0.01137091\n",
            "  -0.08599719  0.02584724  0.2086829   0.12479174  0.00313381 -0.01366939\n",
            "  -0.03202805  0.01606819 -0.22461613 -0.03797609 -0.02790204  0.0323038\n",
            "   0.02386722 -0.0745687   0.01555654  0.11128145  0.10334304  0.04823082\n",
            "  -0.00117451 -0.12130668]]\n",
            "[[ 0.13600096  0.02948563  0.05106198  0.04760653  0.15215826  0.23967656\n",
            "   0.15242478  0.06188047 -0.01004053 -0.0899392  -0.0427043   0.04222185\n",
            "   0.02408566 -0.09964497  0.13494067 -0.0957455   0.06583442  0.00336229\n",
            "  -0.10055144  0.03921712  0.04480244  0.09920735 -0.01218898  0.18805028\n",
            "   0.00672737 -0.21881963 -0.13025248 -0.14354141 -0.03240613  0.05857878\n",
            "   0.05583932 -0.0115676  -0.09193543  0.12252474  0.05583322  0.00615248\n",
            "   0.08391773 -0.05387456 -0.14403044 -0.04681512  0.14386356  0.00928274\n",
            "  -0.01088009 -0.03813741 -0.13382068  0.04630554  0.03321902 -0.00062365\n",
            "  -0.08088267  0.0752176   0.05402162 -0.14428914  0.03908456 -0.03693685\n",
            "   0.07736054  0.0489419  -0.10739553  0.11829969  0.01253431 -0.03503044\n",
            "  -0.06566758  0.08369838 -0.00853055 -0.28756157  0.10553677 -0.04674995\n",
            "   0.05357173 -0.03236201 -0.16782863  0.02188821  0.03284656  0.07606976\n",
            "  -0.02698911 -0.08106559 -0.03564238  0.12498659  0.00848973  0.03626212\n",
            "   0.06059748  0.02428618 -0.0236014   0.04832427 -0.01658859 -0.02847777\n",
            "   0.07575363 -0.00892568  0.05178683 -0.0364978  -0.12846935  0.15445456\n",
            "   0.09193297 -0.14055869 -0.06516297  0.00257904 -0.08937473  0.0369106\n",
            "   0.04416981 -0.0962336  -0.00524558  0.05534016  0.05205517  0.04113032\n",
            "  -0.03501104  0.02041824 -0.20014343 -0.00326472 -0.06329256 -0.05304433\n",
            "  -0.13453425  0.06111744  0.09540358  0.03464497  0.00610287 -0.06938702\n",
            "   0.01100714  0.04007554 -0.1577113  -0.01995141 -0.12896815  0.10344055\n",
            "   0.01699473  0.01506978 -0.02566406  0.11317994  0.09612948  0.05049764\n",
            "  -0.0233863  -0.16482215]]\n",
            "[[ 0.03224307  0.11699261  0.08724836  0.15280996  0.02549826  0.21121582\n",
            "   0.06419845 -0.12191376  0.02704953 -0.06578105 -0.05858758 -0.02106933\n",
            "  -0.00884068 -0.06960025  0.15275893 -0.04059501 -0.02474025  0.01782473\n",
            "  -0.06232955 -0.03700549 -0.01618989 -0.00045468  0.03827628  0.1682827\n",
            "   0.10027378 -0.19839329 -0.17406663 -0.12290043 -0.08016007  0.03688916\n",
            "   0.16351213  0.14142635 -0.09389236  0.11273972  0.05002551  0.04795412\n",
            "   0.10524149 -0.04638464 -0.01288329  0.00557013  0.15315442 -0.08720541\n",
            "   0.06634613 -0.16502324 -0.06140567 -0.04172542  0.08848617  0.00938299\n",
            "  -0.03282995  0.06019098  0.09295706 -0.10054924  0.12180269 -0.00476943\n",
            "   0.05883753  0.06221161 -0.00168452  0.04509166  0.08338728 -0.06079724\n",
            "  -0.12952864  0.13850892 -0.07895242 -0.33657622  0.09107152  0.13173565\n",
            "   0.09607073 -0.11842918 -0.23327865  0.08645166 -0.04235568  0.11962324\n",
            "  -0.05175516  0.08945906  0.07913363  0.01925214  0.0174645  -0.05286968\n",
            "   0.01270043  0.05909694 -0.00678987  0.03635673 -0.00715912 -0.03892096\n",
            "   0.01867677  0.04867499 -0.03528475 -0.09507677 -0.15278667  0.08027746\n",
            "   0.05317986 -0.09345528  0.09688441 -0.07224321 -0.08223262  0.04253427\n",
            "   0.0024021   0.04752576  0.05596218  0.05545786  0.01710645 -0.01394072\n",
            "  -0.01579635  0.11303453 -0.03359721  0.02165057 -0.02432887 -0.01165882\n",
            "  -0.09710915  0.08522744 -0.05173845  0.06130055  0.04555195 -0.09812193\n",
            "  -0.01911909 -0.01988717 -0.05356213  0.04751889 -0.02942117  0.11803863\n",
            "   0.13097201 -0.00636242 -0.00329131  0.04333881  0.02312075  0.05661938\n",
            "  -0.00391987 -0.04317604]]\n",
            "1 and 2 0.7169959\n",
            "1 and 3 0.5175845\n",
            "2 and 3 0.67340755\n"
          ],
          "name": "stdout"
        }
      ]
    },
    {
      "cell_type": "code",
      "metadata": {
        "id": "2qcwWVoBAkke"
      },
      "source": [
        ""
      ],
      "execution_count": null,
      "outputs": []
    }
  ]
}